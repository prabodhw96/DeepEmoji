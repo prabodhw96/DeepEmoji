{
 "cells": [
  {
   "cell_type": "markdown",
   "metadata": {},
   "source": [
    "# <u>Deep Emoji \n",
    "\n",
    "The aim of this project is to use a deep Recurrent Neural Network to express an input text in terms of an emoji.\n",
    "The model assigns a suitable emoji to the input sentence. "
   ]
  },
  {
   "cell_type": "code",
   "execution_count": 17,
   "metadata": {},
   "outputs": [],
   "source": [
    "# import the necessary things first\n",
    "import numpy as np\n",
    "from emoji_utils import *\n",
    "import emoji\n",
    "import os.path\n",
    "\n",
    "from keras.models import Model\n",
    "from keras.layers import Dense, Input, Dropout, LSTM, Activation\n",
    "from keras.layers.embeddings import Embedding\n",
    "from keras.preprocessing import sequence\n",
    "from keras.initializers import glorot_uniform"
   ]
  },
  {
   "cell_type": "markdown",
   "metadata": {},
   "source": [
    "## Dataset\n",
    "The dataset used for this task is pretty small and the number of emojis used is only 5. So all the sentences will be expressed in terms of those 5 emojis only.\n",
    "\n",
    "Let us load the dataset for training and testing."
   ]
  },
  {
   "cell_type": "code",
   "execution_count": 2,
   "metadata": {},
   "outputs": [
    {
     "name": "stdout",
     "output_type": "stream",
     "text": [
      "10\n"
     ]
    }
   ],
   "source": [
    "# load the dataset\n",
    "train_path = 'data/train_emoji.csv'\n",
    "test_path = 'data/test_emoji.csv'\n",
    "\n",
    "X_train, Y_train = load_csv(train_path)\n",
    "X_test, Y_test = load_csv(test_path)\n",
    "\n",
    "# find the maximum length of input training example\n",
    "max_len = -1\n",
    "for example in X_train:\n",
    "    if len(example.split()) > max_len:\n",
    "        max_len = len(example.split())\n",
    "        \n",
    "print(max_len)"
   ]
  },
  {
   "cell_type": "markdown",
   "metadata": {},
   "source": [
    "For the purpose of training we will have to convert the output $ Y $ labels from numbers to a One Hot encoded representation. So we will convert the $Y$ vector from $(m, 1)$ to $(m,5)$ ."
   ]
  },
  {
   "cell_type": "code",
   "execution_count": 3,
   "metadata": {},
   "outputs": [],
   "source": [
    "Y_train_ohe = convert_to_OHE(Y_train, C = 5)\n",
    "Y_test_ohe = convert_to_OHE(Y_test, C = 5)"
   ]
  },
  {
   "cell_type": "markdown",
   "metadata": {},
   "source": [
    "We will be using $GloVe$ word embeddings for representing each of the input words and convert the one hot encoding to a **Featurized representation**."
   ]
  },
  {
   "cell_type": "markdown",
   "metadata": {},
   "source": [
    "- `word_to_index`: dict mapping from words to their numerical indices. The vocabulary size is of 400,001 words.\n",
    "- `index_to_word`: dictionary mapping from numerical indices to their corresponding words in the vocabulary.\n",
    "- `word_to_vec_map`: dictionary mapping words to their GloVe vector representation."
   ]
  },
  {
   "cell_type": "code",
   "execution_count": 4,
   "metadata": {},
   "outputs": [
    {
     "name": "stdout",
     "output_type": "stream",
     "text": [
      "400000\n",
      "400000\n"
     ]
    }
   ],
   "source": [
    "# load the GLoVe word embeddings \n",
    "word_to_index, index_to_word, word_to_vec = load_glove('data/glove.6B.50d.txt')\n",
    "print(len(word_to_index))\n",
    "print(len(index_to_word))"
   ]
  },
  {
   "cell_type": "markdown",
   "metadata": {},
   "source": [
    "# <u> Model Architecture\n",
    "We will be using a embedding layer for finding the embedding vectors then the embedding vectors will be fed to a 2 layers deep **LSTM** Network stacked one on top of another. Dropout layers will be used for **regularization** and finally the output of the top LSTM network is given to a **softmax** layer for finding the output prediction.\n",
    "\n",
    "Since for making it possible to use mini batches we will be using a defined length for all inputs. So we will have to pad the sentences if their lengths are shorter. We will pad with $0$."
   ]
  },
  {
   "cell_type": "markdown",
   "metadata": {},
   "source": [
    "#### Embedding layer\n",
    "For using a embedding matrix in Keras we will use a Embedding Layer and will give it the 50 dimensional GLoVe embedding matrix weights. So the embedding layer will not be trained again. The input to the Embedding layer will be a matrix of size $(batch size, max input length)$ where each input will be a vector of numerical indices corresponding to its word mapping. Output will be a embedding vector of dimension $(batch size, max input length, dimension of word vectors)$.\n",
    "\n",
    "1. So the input words will be converted to index representation.\n",
    "2. Zero padding will be added.\n",
    "3. Create an Embedding Layer.\n",
    "4. Load the embedding layer weight values from GLoVe.\n",
    "5. Then it will be fed to the embedding layer to get the embedding vector."
   ]
  },
  {
   "cell_type": "markdown",
   "metadata": {},
   "source": [
    "The input to the model is an array of shape (`m`, `max_len`) and the output is a  probability vector of shape (`m`, `number of output classes`). \n",
    "The input will be a vector of indices which will be first given to the Embedding layer and the output will be a One Hot representation of label classes."
   ]
  },
  {
   "cell_type": "code",
   "execution_count": 5,
   "metadata": {},
   "outputs": [],
   "source": [
    "X_train_indices = sentence_to_indices(X_train, word_to_index, max_len)\n",
    "X_test_indices = sentence_to_indices(X_test, word_to_index, max_len)"
   ]
  },
  {
   "cell_type": "code",
   "execution_count": 6,
   "metadata": {},
   "outputs": [],
   "source": [
    "# Creates a Keras Embedding layer with weights loaded from pre-trained 50-dimensional GloVe matrix.\n",
    "def create_embedding_layer(word_to_vec_map, word_to_index):\n",
    "    # GLoVe embedding dimensions\n",
    "    emb_dim = word_to_vec_map[\"apple\"].shape[0]         \n",
    "    # adding 1 to fit Keras embedding\n",
    "    vocab_len = len(word_to_index) + 1              \n",
    "    # make a matrix of zeros of required size and load it with weights from glove embeddings\n",
    "    emb_matrix = np.zeros((vocab_len, emb_dim))\n",
    "    \n",
    "    # get the embedding weights for each word\n",
    "    for word, index in word_to_index.items():\n",
    "        emb_matrix[index, :] = word_to_vec[word]\n",
    "    \n",
    "    # make a Keras Embedding layer \n",
    "    embedding_layer = Embedding(input_dim = vocab_len, output_dim = emb_dim, trainable = False)\n",
    "    # Build the embedding layer\n",
    "    embedding_layer.build((None,))\n",
    "    # use the pretrained weights for the layer\n",
    "    embedding_layer.set_weights([emb_matrix])\n",
    "    \n",
    "    return embedding_layer"
   ]
  },
  {
   "cell_type": "code",
   "execution_count": 7,
   "metadata": {},
   "outputs": [],
   "source": [
    "# returns the overall model instance\n",
    "def create_model(input_shape, word_to_vec_map, word_to_index):\n",
    "    # input to the graph\n",
    "    sentence_indices = Input(shape = input_shape, dtype = 'int32')\n",
    "    \n",
    "    # create the embedding layer with GloVe weights\n",
    "    embedding_layer = create_embedding_layer(word_to_vec_map, word_to_index)\n",
    "    # propagate the input through the embedding layer\n",
    "    embeddings = embedding_layer(sentence_indices)   \n",
    "    \n",
    "    # LSTM layer 1\n",
    "    # the output of each timestep is fed to the next layer\n",
    "    X = LSTM(units = 128, return_sequences = True)(embeddings)\n",
    "    X = Dropout(rate = 0.5)(X)\n",
    "    \n",
    "    # LSTM layer 2\n",
    "    # Here all the output timesteps have not been used only the output of the final timestep has been used\n",
    "    X = LSTM(units = 128)(X)\n",
    "    X = Dropout(rate = 0.5)(X)\n",
    "    # pass the RNN output through a softmax of 5 units\n",
    "    X = Dense(units = 5, activation = 'softmax')(X)\n",
    "    # Add a softmax activation\n",
    "    X = Activation('softmax')(X)\n",
    "    \n",
    "    # Keras model instance\n",
    "    model = Model(inputs=sentence_indices, outputs=X)\n",
    "    \n",
    "    return model"
   ]
  },
  {
   "cell_type": "code",
   "execution_count": 19,
   "metadata": {
    "scrolled": false
   },
   "outputs": [
    {
     "name": "stdout",
     "output_type": "stream",
     "text": [
      "_________________________________________________________________\n",
      "Layer (type)                 Output Shape              Param #   \n",
      "=================================================================\n",
      "input_3 (InputLayer)         (None, 10)                0         \n",
      "_________________________________________________________________\n",
      "embedding_3 (Embedding)      (None, 10, 50)            20000050  \n",
      "_________________________________________________________________\n",
      "lstm_5 (LSTM)                (None, 10, 128)           91648     \n",
      "_________________________________________________________________\n",
      "dropout_5 (Dropout)          (None, 10, 128)           0         \n",
      "_________________________________________________________________\n",
      "lstm_6 (LSTM)                (None, 128)               131584    \n",
      "_________________________________________________________________\n",
      "dropout_6 (Dropout)          (None, 128)               0         \n",
      "_________________________________________________________________\n",
      "dense_3 (Dense)              (None, 5)                 645       \n",
      "_________________________________________________________________\n",
      "activation_3 (Activation)    (None, 5)                 0         \n",
      "=================================================================\n",
      "Total params: 20,223,927\n",
      "Trainable params: 223,877\n",
      "Non-trainable params: 20,000,050\n",
      "_________________________________________________________________\n"
     ]
    }
   ],
   "source": [
    "model = create_model((max_len,), word_to_vec, word_to_index)\n",
    "model.summary()"
   ]
  },
  {
   "cell_type": "code",
   "execution_count": 20,
   "metadata": {},
   "outputs": [],
   "source": [
    "model.compile(loss='categorical_crossentropy', optimizer='adam', metrics=['accuracy'])"
   ]
  },
  {
   "cell_type": "code",
   "execution_count": 22,
   "metadata": {},
   "outputs": [
    {
     "name": "stdout",
     "output_type": "stream",
     "text": [
      "Model Weights found\n"
     ]
    }
   ],
   "source": [
    "model_path = 'models/weights.h5'\n",
    "\n",
    "if os.path.exists(model_path):\n",
    "    model.load_weights(model_path)\n",
    "    print('Model Weights found')"
   ]
  },
  {
   "cell_type": "code",
   "execution_count": 14,
   "metadata": {
    "scrolled": true
   },
   "outputs": [
    {
     "name": "stdout",
     "output_type": "stream",
     "text": [
      "Epoch 1/100\n",
      "132/132 [==============================] - 5s 36ms/step - loss: 1.6071 - acc: 0.2121\n",
      "Epoch 2/100\n",
      "132/132 [==============================] - 0s 3ms/step - loss: 1.5859 - acc: 0.3106\n",
      "Epoch 3/100\n",
      "132/132 [==============================] - 0s 3ms/step - loss: 1.5602 - acc: 0.3409\n",
      "Epoch 4/100\n",
      "132/132 [==============================] - 0s 3ms/step - loss: 1.5446 - acc: 0.4091\n",
      "Epoch 5/100\n",
      "132/132 [==============================] - 0s 3ms/step - loss: 1.5189 - acc: 0.4167\n",
      "Epoch 6/100\n",
      "132/132 [==============================] - 0s 4ms/step - loss: 1.4883 - acc: 0.4167\n",
      "Epoch 7/100\n",
      "132/132 [==============================] - 1s 6ms/step - loss: 1.4280 - acc: 0.5076\n",
      "Epoch 8/100\n",
      "132/132 [==============================] - 1s 7ms/step - loss: 1.4601 - acc: 0.4394\n",
      "Epoch 9/100\n",
      "132/132 [==============================] - 1s 7ms/step - loss: 1.3980 - acc: 0.5076\n",
      "Epoch 10/100\n",
      "132/132 [==============================] - 1s 7ms/step - loss: 1.3366 - acc: 0.5758\n",
      "Epoch 11/100\n",
      "132/132 [==============================] - 1s 7ms/step - loss: 1.3419 - acc: 0.5758\n",
      "Epoch 12/100\n",
      "132/132 [==============================] - 1s 6ms/step - loss: 1.2846 - acc: 0.6591\n",
      "Epoch 13/100\n",
      "132/132 [==============================] - 0s 3ms/step - loss: 1.2720 - acc: 0.6894\n",
      "Epoch 14/100\n",
      "132/132 [==============================] - 0s 3ms/step - loss: 1.2285 - acc: 0.7424\n",
      "Epoch 15/100\n",
      "132/132 [==============================] - 0s 3ms/step - loss: 1.1970 - acc: 0.7045\n",
      "Epoch 16/100\n",
      "132/132 [==============================] - 0s 4ms/step - loss: 1.1772 - acc: 0.7500\n",
      "Epoch 17/100\n",
      "132/132 [==============================] - 0s 3ms/step - loss: 1.2089 - acc: 0.7045\n",
      "Epoch 18/100\n",
      "132/132 [==============================] - 0s 3ms/step - loss: 1.1703 - acc: 0.7424\n",
      "Epoch 19/100\n",
      "132/132 [==============================] - 0s 3ms/step - loss: 1.1393 - acc: 0.7803\n",
      "Epoch 20/100\n",
      "132/132 [==============================] - 0s 3ms/step - loss: 1.0930 - acc: 0.8333\n",
      "Epoch 21/100\n",
      "132/132 [==============================] - 0s 3ms/step - loss: 1.0859 - acc: 0.8333\n",
      "Epoch 22/100\n",
      "132/132 [==============================] - 0s 3ms/step - loss: 1.0587 - acc: 0.8561\n",
      "Epoch 23/100\n",
      "132/132 [==============================] - 0s 3ms/step - loss: 1.0757 - acc: 0.8485\n",
      "Epoch 24/100\n",
      "132/132 [==============================] - 1s 4ms/step - loss: 1.1132 - acc: 0.7803\n",
      "Epoch 25/100\n",
      "132/132 [==============================] - 2s 13ms/step - loss: 1.0639 - acc: 0.8485\n",
      "Epoch 26/100\n",
      "132/132 [==============================] - 1s 9ms/step - loss: 1.0934 - acc: 0.8106\n",
      "Epoch 27/100\n",
      "132/132 [==============================] - 1s 11ms/step - loss: 1.0570 - acc: 0.8485\n",
      "Epoch 28/100\n",
      "132/132 [==============================] - 1s 7ms/step - loss: 1.0680 - acc: 0.8561\n",
      "Epoch 29/100\n",
      "132/132 [==============================] - 0s 3ms/step - loss: 1.0101 - acc: 0.9091\n",
      "Epoch 30/100\n",
      "132/132 [==============================] - 0s 3ms/step - loss: 1.0713 - acc: 0.8409\n",
      "Epoch 31/100\n",
      "132/132 [==============================] - 0s 3ms/step - loss: 1.0909 - acc: 0.8106\n",
      "Epoch 32/100\n",
      "132/132 [==============================] - 0s 3ms/step - loss: 1.0461 - acc: 0.8788\n",
      "Epoch 33/100\n",
      "132/132 [==============================] - 0s 3ms/step - loss: 1.0275 - acc: 0.8864\n",
      "Epoch 34/100\n",
      "132/132 [==============================] - 0s 3ms/step - loss: 1.0044 - acc: 0.9091\n",
      "Epoch 35/100\n",
      "132/132 [==============================] - 0s 3ms/step - loss: 0.9956 - acc: 0.9167\n",
      "Epoch 36/100\n",
      "132/132 [==============================] - 0s 3ms/step - loss: 0.9909 - acc: 0.9242\n",
      "Epoch 37/100\n",
      "132/132 [==============================] - 0s 3ms/step - loss: 0.9912 - acc: 0.9167\n",
      "Epoch 38/100\n",
      "132/132 [==============================] - 0s 3ms/step - loss: 0.9985 - acc: 0.9242\n",
      "Epoch 39/100\n",
      "132/132 [==============================] - 1s 9ms/step - loss: 0.9835 - acc: 0.9394\n",
      "Epoch 40/100\n",
      "132/132 [==============================] - 2s 18ms/step - loss: 0.9764 - acc: 0.9318\n",
      "Epoch 41/100\n",
      "132/132 [==============================] - 1s 11ms/step - loss: 0.9874 - acc: 0.9242\n",
      "Epoch 42/100\n",
      "132/132 [==============================] - 1s 5ms/step - loss: 0.9818 - acc: 0.9242\n",
      "Epoch 43/100\n",
      "132/132 [==============================] - 0s 3ms/step - loss: 0.9818 - acc: 0.9242\n",
      "Epoch 44/100\n",
      "132/132 [==============================] - 0s 4ms/step - loss: 0.9694 - acc: 0.9394\n",
      "Epoch 45/100\n",
      "132/132 [==============================] - 0s 4ms/step - loss: 0.9690 - acc: 0.9394\n",
      "Epoch 46/100\n",
      "132/132 [==============================] - 0s 3ms/step - loss: 0.9692 - acc: 0.9394\n",
      "Epoch 47/100\n",
      "132/132 [==============================] - 0s 3ms/step - loss: 0.9544 - acc: 0.9545\n",
      "Epoch 48/100\n",
      "132/132 [==============================] - 0s 3ms/step - loss: 0.9609 - acc: 0.9470\n",
      "Epoch 49/100\n",
      "132/132 [==============================] - 0s 3ms/step - loss: 0.9561 - acc: 0.9545\n",
      "Epoch 50/100\n",
      "132/132 [==============================] - 0s 3ms/step - loss: 0.9909 - acc: 0.9167\n",
      "Epoch 51/100\n",
      "132/132 [==============================] - 0s 4ms/step - loss: 0.9766 - acc: 0.9318\n",
      "Epoch 52/100\n",
      "132/132 [==============================] - 0s 3ms/step - loss: 0.9848 - acc: 0.9242\n",
      "Epoch 53/100\n",
      "132/132 [==============================] - 0s 3ms/step - loss: 0.9650 - acc: 0.9394\n",
      "Epoch 54/100\n",
      "132/132 [==============================] - 1s 11ms/step - loss: 1.0047 - acc: 0.9015\n",
      "Epoch 55/100\n",
      "132/132 [==============================] - 2s 13ms/step - loss: 1.0823 - acc: 0.8182\n",
      "Epoch 56/100\n",
      "132/132 [==============================] - 2s 15ms/step - loss: 1.0700 - acc: 0.8333\n",
      "Epoch 57/100\n",
      "132/132 [==============================] - 0s 3ms/step - loss: 1.0827 - acc: 0.8258\n",
      "Epoch 58/100\n",
      "132/132 [==============================] - 0s 3ms/step - loss: 1.0706 - acc: 0.8258\n",
      "Epoch 59/100\n",
      "132/132 [==============================] - 0s 3ms/step - loss: 1.0547 - acc: 0.8561\n",
      "Epoch 60/100\n",
      "132/132 [==============================] - 0s 3ms/step - loss: 1.0374 - acc: 0.8712\n",
      "Epoch 61/100\n",
      "132/132 [==============================] - 0s 4ms/step - loss: 0.9982 - acc: 0.9015\n",
      "Epoch 62/100\n",
      "132/132 [==============================] - 0s 3ms/step - loss: 0.9913 - acc: 0.9167\n",
      "Epoch 63/100\n",
      "132/132 [==============================] - 0s 3ms/step - loss: 1.0023 - acc: 0.9091\n",
      "Epoch 64/100\n",
      "132/132 [==============================] - 0s 3ms/step - loss: 0.9955 - acc: 0.9091\n",
      "Epoch 65/100\n",
      "132/132 [==============================] - 0s 3ms/step - loss: 0.9732 - acc: 0.9318\n",
      "Epoch 66/100\n",
      "132/132 [==============================] - 0s 3ms/step - loss: 0.9771 - acc: 0.9242\n",
      "Epoch 67/100\n",
      "132/132 [==============================] - 0s 4ms/step - loss: 0.9732 - acc: 0.9394\n",
      "Epoch 68/100\n",
      "132/132 [==============================] - 1s 11ms/step - loss: 1.0625 - acc: 0.8333\n",
      "Epoch 69/100\n",
      "132/132 [==============================] - 3s 23ms/step - loss: 1.1622 - acc: 0.7424\n",
      "Epoch 70/100\n",
      "132/132 [==============================] - 1s 9ms/step - loss: 1.1228 - acc: 0.7879\n",
      "Epoch 71/100\n",
      "132/132 [==============================] - 0s 3ms/step - loss: 1.0975 - acc: 0.7955\n",
      "Epoch 72/100\n",
      "132/132 [==============================] - 0s 3ms/step - loss: 1.0799 - acc: 0.8258\n",
      "Epoch 73/100\n",
      "132/132 [==============================] - 0s 3ms/step - loss: 1.0184 - acc: 0.8864\n",
      "Epoch 74/100\n",
      "132/132 [==============================] - 0s 4ms/step - loss: 1.0211 - acc: 0.8864\n",
      "Epoch 75/100\n",
      "132/132 [==============================] - 0s 3ms/step - loss: 1.0259 - acc: 0.8788\n",
      "Epoch 76/100\n",
      "132/132 [==============================] - 0s 3ms/step - loss: 1.0969 - acc: 0.8106\n",
      "Epoch 77/100\n",
      "132/132 [==============================] - 1s 4ms/step - loss: 1.0849 - acc: 0.8106\n",
      "Epoch 78/100\n",
      "132/132 [==============================] - 0s 3ms/step - loss: 1.0116 - acc: 0.8864\n",
      "Epoch 79/100\n",
      "132/132 [==============================] - 0s 3ms/step - loss: 1.0029 - acc: 0.9015\n",
      "Epoch 80/100\n",
      "132/132 [==============================] - 0s 3ms/step - loss: 0.9916 - acc: 0.9091\n",
      "Epoch 81/100\n",
      "132/132 [==============================] - 1s 9ms/step - loss: 0.9631 - acc: 0.9470\n",
      "Epoch 82/100\n",
      "132/132 [==============================] - 4s 30ms/step - loss: 0.9561 - acc: 0.9545\n",
      "Epoch 83/100\n",
      "132/132 [==============================] - 1s 6ms/step - loss: 0.9540 - acc: 0.9545\n",
      "Epoch 84/100\n",
      "132/132 [==============================] - 1s 5ms/step - loss: 0.9565 - acc: 0.9545\n",
      "Epoch 85/100\n"
     ]
    },
    {
     "name": "stdout",
     "output_type": "stream",
     "text": [
      "132/132 [==============================] - 1s 6ms/step - loss: 0.9567 - acc: 0.9470\n",
      "Epoch 86/100\n",
      "132/132 [==============================] - 1s 5ms/step - loss: 0.9533 - acc: 0.9545\n",
      "Epoch 87/100\n",
      "132/132 [==============================] - 1s 5ms/step - loss: 0.9514 - acc: 0.9545\n",
      "Epoch 88/100\n",
      "132/132 [==============================] - 1s 5ms/step - loss: 0.9513 - acc: 0.9545\n",
      "Epoch 89/100\n",
      "132/132 [==============================] - 1s 4ms/step - loss: 0.9501 - acc: 0.9545\n",
      "Epoch 90/100\n",
      "132/132 [==============================] - 1s 5ms/step - loss: 0.9503 - acc: 0.9545\n",
      "Epoch 91/100\n",
      "132/132 [==============================] - 1s 4ms/step - loss: 0.9499 - acc: 0.9545\n",
      "Epoch 92/100\n",
      "132/132 [==============================] - 1s 5ms/step - loss: 0.9506 - acc: 0.9545\n",
      "Epoch 93/100\n",
      "132/132 [==============================] - 1s 5ms/step - loss: 0.9504 - acc: 0.9545\n",
      "Epoch 94/100\n",
      "132/132 [==============================] - 1s 4ms/step - loss: 0.9501 - acc: 0.9545\n",
      "Epoch 95/100\n",
      "132/132 [==============================] - 1s 5ms/step - loss: 0.9500 - acc: 0.9545\n",
      "Epoch 96/100\n",
      "132/132 [==============================] - 0s 4ms/step - loss: 0.9510 - acc: 0.9545\n",
      "Epoch 97/100\n",
      "132/132 [==============================] - 1s 5ms/step - loss: 0.9525 - acc: 0.9545\n",
      "Epoch 98/100\n",
      "132/132 [==============================] - 1s 4ms/step - loss: 0.9500 - acc: 0.9545\n",
      "Epoch 99/100\n",
      "132/132 [==============================] - 0s 3ms/step - loss: 0.9497 - acc: 0.9545\n",
      "Epoch 100/100\n",
      "132/132 [==============================] - 0s 3ms/step - loss: 0.9504 - acc: 0.9545\n"
     ]
    }
   ],
   "source": [
    "# start model training\n",
    "model.fit(X_train_indices, Y_train_oh, epochs = 100, batch_size = 32, shuffle=True)\n",
    "# save the model weights\n",
    "model.save_weights(model_path)"
   ]
  },
  {
   "cell_type": "markdown",
   "metadata": {},
   "source": [
    "## Model Testing \n",
    "Let us evaluate the e model on test data."
   ]
  },
  {
   "cell_type": "code",
   "execution_count": 23,
   "metadata": {
    "scrolled": true
   },
   "outputs": [
    {
     "name": "stdout",
     "output_type": "stream",
     "text": [
      "56/56 [==============================] - 1s 11ms/step\n",
      "\n",
      "Test Accuracy = 78.5714294229 %\n"
     ]
    }
   ],
   "source": [
    "# evaluate model\n",
    "_, acc = model.evaluate(X_test_indices, Y_test_ohe)\n",
    "\n",
    "print(\"\\nTest Accuracy = \" +str(acc*100) + ' %' )"
   ]
  },
  {
   "cell_type": "markdown",
   "metadata": {},
   "source": [
    "Let us look at some of outputs from the test data."
   ]
  },
  {
   "cell_type": "code",
   "execution_count": 24,
   "metadata": {},
   "outputs": [
    {
     "name": "stdout",
     "output_type": "stream",
     "text": [
      "Model Prediction: I want to eat\t🍴\n",
      "Expected emoji:🍴\n",
      "\n",
      "Model Prediction: he did not answer\t😞\n",
      "Expected emoji:😞\n",
      "\n",
      "Model Prediction: he got a very nice raise\t❤️\n",
      "Expected emoji:😄\n",
      "\n",
      "Model Prediction: she got me a nice present\t❤️\n",
      "Expected emoji:😄\n",
      "\n",
      "Model Prediction: ha ha ha it was so funny\t😄\n",
      "Expected emoji:😄\n",
      "\n",
      "Model Prediction: he is a good friend\t😄\n",
      "Expected emoji:😄\n",
      "\n",
      "Model Prediction: I am upset\t😞\n",
      "Expected emoji:😞\n",
      "\n",
      "Model Prediction: We had such a lovely dinner tonight\t😄\n",
      "Expected emoji:😄\n",
      "\n",
      "Model Prediction: where is the food\t🍴\n",
      "Expected emoji:🍴\n",
      "\n",
      "Model Prediction: Stop making this joke ha ha ha\t😄\n",
      "Expected emoji:😄\n",
      "\n",
      "Model Prediction: where is the ball\t⚾\n",
      "Expected emoji:⚾\n",
      "\n",
      "Model Prediction: work is hard\t😞\n",
      "Expected emoji:😞\n",
      "\n",
      "Model Prediction: This girl is messing with me\t❤️\n",
      "Expected emoji:😞\n",
      "\n",
      "Model Prediction: are you serious😞\n",
      "Expected emoji:😞\n",
      "\n",
      "Model Prediction: Let us go play baseball\t⚾\n",
      "Expected emoji:⚾\n",
      "\n"
     ]
    }
   ],
   "source": [
    "# find predictions\n",
    "pred = model.predict(X_test_indices)\n",
    "\n",
    "# random indices\n",
    "indices = np.arange(min(15,X_test_indices.shape[0]))\n",
    "\n",
    "for i in indices:\n",
    "    x = X_test_indices\n",
    "    emoji_number = np.argmax(pred[i])\n",
    "    print('Model Prediction: '+ X_test[i] + label_to_emoji(emoji_number).strip())\n",
    "    print('Expected emoji:'+ label_to_emoji(Y_test[i]) )\n",
    "    print()"
   ]
  },
  {
   "cell_type": "markdown",
   "metadata": {},
   "source": [
    "### Try using the model\n",
    "Give an input sentence to see how to works. "
   ]
  },
  {
   "cell_type": "code",
   "execution_count": 25,
   "metadata": {},
   "outputs": [],
   "source": [
    "# takes the user input and shows output\n",
    "def text_to_emoji():\n",
    "    text = input()\n",
    "    x_input = np.array([text])\n",
    "    # convert to indices\n",
    "    x_idx = sentence_to_indices(x_input, word_to_index, max_len)\n",
    "    print(x_input[0] +' '+  label_to_emoji(np.argmax(model.predict(x_idx))))"
   ]
  },
  {
   "cell_type": "code",
   "execution_count": 26,
   "metadata": {},
   "outputs": [
    {
     "name": "stdout",
     "output_type": "stream",
     "text": [
      "he likes to play\n",
      "he likes to play ⚾\n"
     ]
    }
   ],
   "source": [
    "text_to_emoji()"
   ]
  },
  {
   "cell_type": "markdown",
   "metadata": {},
   "source": [
    " "
   ]
  },
  {
   "cell_type": "markdown",
   "metadata": {},
   "source": [
    "### Credits\n",
    "This project is based on the assignment from Sequence Models Specialization by Deeplearning.ai on Coursera. <br>https://www.coursera.org/learn/nlp-sequence-models/home/welcome"
   ]
  }
 ],
 "metadata": {
  "coursera": {
   "course_slug": "nlp-sequence-models",
   "graded_item_id": "RNnEs",
   "launcher_item_id": "acNYU"
  },
  "kernelspec": {
   "display_name": "Python 3",
   "language": "python",
   "name": "python3"
  },
  "language_info": {
   "codemirror_mode": {
    "name": "ipython",
    "version": 3
   },
   "file_extension": ".py",
   "mimetype": "text/x-python",
   "name": "python",
   "nbconvert_exporter": "python",
   "pygments_lexer": "ipython3",
   "version": "3.6.3"
  }
 },
 "nbformat": 4,
 "nbformat_minor": 2
}
